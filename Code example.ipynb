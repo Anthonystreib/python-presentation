{
 "cells": [
  {
   "cell_type": "code",
   "execution_count": 4,
   "id": "c2ac56e0",
   "metadata": {},
   "outputs": [
    {
     "name": "stdout",
     "output_type": "stream",
     "text": [
      "Results of the 2016 Referendum\n"
     ]
    }
   ],
   "source": [
    "year = 2016\n",
    "event = 'Referendum'\n",
    "print(f'Results of the {year} {event}')"
   ]
  },
  {
   "cell_type": "code",
   "execution_count": 5,
   "id": "530919f0",
   "metadata": {},
   "outputs": [
    {
     "data": {
      "text/plain": [
       "' 42572654 YES votes  49.67%'"
      ]
     },
     "execution_count": 5,
     "metadata": {},
     "output_type": "execute_result"
    }
   ],
   "source": [
    "yes_votes = 42_572_654\n",
    "no_votes = 43_132_495\n",
    "percentage = yes_votes / (yes_votes + no_votes)\n",
    "'{:-9} YES votes  {:2.2%}'.format(yes_votes, percentage)"
   ]
  },
  {
   "cell_type": "code",
   "execution_count": null,
   "id": "4863737c",
   "metadata": {},
   "outputs": [],
   "source": []
  }
 ],
 "metadata": {
  "kernelspec": {
   "display_name": "Python 3 (ipykernel)",
   "language": "python",
   "name": "python3"
  },
  "language_info": {
   "codemirror_mode": {
    "name": "ipython",
    "version": 3
   },
   "file_extension": ".py",
   "mimetype": "text/x-python",
   "name": "python",
   "nbconvert_exporter": "python",
   "pygments_lexer": "ipython3",
   "version": "3.11.4"
  }
 },
 "nbformat": 4,
 "nbformat_minor": 5
}
